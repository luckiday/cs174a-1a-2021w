{
 "cells": [
  {
   "cell_type": "markdown",
   "metadata": {
    "slideshow": {
     "slide_type": "slide"
    }
   },
   "source": [
    "# CS-174A Discussion 1A, Week 2\n",
    "\n",
    "@ Instructor: Prof. Demetri Terzopoulos\n",
    "\n",
    "@ TA: Yunqi Guo\n",
    "\n",
    "@ https://github.com/luckiday/cs174a-1a-2021w"
   ]
  },
  {
   "cell_type": "markdown",
   "metadata": {
    "slideshow": {
     "slide_type": "slide"
    }
   },
   "source": [
    "# Logistics\n",
    "\n",
    "- Assignemnt 1 due Jan. 24 11:59pm\n",
    "- Group project (2-4 students per group)"
   ]
  },
  {
   "cell_type": "markdown",
   "metadata": {
    "slideshow": {
     "slide_type": "slide"
    }
   },
   "source": [
    "# Outline\n",
    "\n",
    "- WebGL Programming\n",
    "- Assignment 1 (Part 1) "
   ]
  },
  {
   "cell_type": "markdown",
   "metadata": {
    "slideshow": {
     "slide_type": "slide"
    }
   },
   "source": [
    "# WebGL Programming\n",
    "\n",
    "## Geometric Pipeline\n",
    "\n",
    "![](figures/pipeline.png)"
   ]
  },
  {
   "cell_type": "markdown",
   "metadata": {
    "slideshow": {
     "slide_type": "subslide"
    }
   },
   "source": [
    "## Glossary\n",
    "- GLSL: Graphics Library Shader Language\n",
    "- shader program: a set of instructions written in GLSL that executes on a GPU"
   ]
  },
  {
   "cell_type": "markdown",
   "metadata": {
    "slideshow": {
     "slide_type": "subslide"
    }
   },
   "source": [
    "## GLSL Data Types and Variables\n",
    "\n",
    "GLSL allows for three basic types of data:\n",
    "- `bool`: Boolean values; true or false\n",
    "- `int`: integer values; whole numbers in a certain range, -n..n\n",
    "- `float`: floating point values; numbers with a fractional component\n",
    "\n",
    "The vector and matrix data types are:\n",
    "\n",
    "- `bvec2, bvec3, bvec4`: 2, 3, and 4-component Boolean vectors\n",
    "- `ivec2, ivec3, ivec4`: 2, 3, and 4-component integer vectors\n",
    "- `vec2, vec3, vec4`: 2, 3, and 4-component floating point vectors\n",
    "- `mat2, mat3, mat4`: 2x2, 3x3, and 4x4 floating point matrices"
   ]
  },
  {
   "cell_type": "markdown",
   "metadata": {
    "slideshow": {
     "slide_type": "subslide"
    }
   },
   "source": [
    "### We can also define the precision of the int and float\n",
    "\n",
    "```js\n",
    "precision highp int;\n",
    "precision mediump float;\n",
    "```"
   ]
  },
  {
   "cell_type": "markdown",
   "metadata": {
    "slideshow": {
     "slide_type": "subslide"
    }
   },
   "source": [
    "## Storage Qualifiers\n",
    "\n",
    "- **attribute**: The variable is assigned a value from a object buffer as a series of graphics primitives are rendered. The value is only accessible in the vertex shader.\n",
    "- **uniform**: The variable is assigned a value from the JavaScript code before a gl.drawArrays() call is made. The value is accessible in both the vertex and fragment shader.\n",
    "- **varying**: The variable is assigned a value by a vertex shader and automatically interpolated across the surface of a graphics primitive before a fragment shader receives it. The value can be used in a fragment shader, but not changed."
   ]
  },
  {
   "cell_type": "markdown",
   "metadata": {
    "slideshow": {
     "slide_type": "subslide"
    }
   },
   "source": [
    "## Vector Components\n",
    "\n",
    "The individual element of a vector can be accessed using array notation, `[2]`, or “dotted notation”, `.x`. The names of the vector components are `x,y,z,w`, or `r,g,b,a`, or `s,t,p,q`.\n",
    "\n",
    "```c\n",
    "vec3 alpha = vec3(1.0, 2.0, 3.0);\n",
    "vec4 a;\n",
    "vec3 b;\n",
    "vec2 c;\n",
    "float d;\n",
    "\n",
    "b = alpha.xyz;  // b is now (1.0, 2.0, 3.0)\n",
    "d = alpha[2];   // d is now 3.0\n",
    "a = alpha.xxxx; // a is now (1.0, 1.0, 1.0, 1.0)\n",
    "c = alpha.zx;   // c is now (3.0, 1.0)\n",
    "b = alpha.rgb;  // b is now (1.0, 2.0, 3.0)\n",
    "b = alpha.stp;  // b is now (1.0, 2.0, 3.0)\n",
    "a = alpha.yy;   // compiler error; the right hand side is a 2-component vector,\n",
    "                // while \"a\" is a 4-component vector.\n",
    "```"
   ]
  },
  {
   "cell_type": "markdown",
   "metadata": {
    "slideshow": {
     "slide_type": "subslide"
    }
   },
   "source": [
    "## Constructors and Data Type Conversions\n",
    "\n",
    "```c\n",
    "vec3 alpha = vec3(1.0, 2.0, 3.0);\n",
    "vec4 beta = vec4(4.0, 5.0, 6.0, 7.0);\n",
    "\n",
    "vec3 delta = vec3(alpha.xy, beta.w); // delta is now (1.0, 2.0, 7.0)\n",
    "vec4 gamma = vec4(alpha[2], beta.rrr); // gamma is now (3.0, 4.0, 4.0, 4.0)\n",
    "```"
   ]
  },
  {
   "cell_type": "markdown",
   "metadata": {
    "slideshow": {
     "slide_type": "subslide"
    }
   },
   "source": [
    "## Built-in Variables\n",
    "\n",
    "### A Vertex Shader‘s Outputs\n",
    "\n",
    "- `gl_Position`: a vec4 position of a vertex in “clip coordinates”. Clip coordinates were described in detail in section 8.\n",
    "    - The values for x and y are in the range [-1.0,+1.0] and represent the location of a vertex in the viewing window.\n",
    "    - The z value is in the range [-1.0,+1.0] and represents the distance of the vertex from the camera.\n",
    "    - The w value is 1.0 for orthogonal projections, or the w value is the perspective divide value for perspective projections.\n",
    "- `gl_PointSize`: the number of pixels to use to render a point. It only applies to the rendering of single points, not to the vertices of lines and triangles. If no value is specified, its default value it 1.0."
   ]
  },
  {
   "cell_type": "markdown",
   "metadata": {},
   "source": [
    "### Inputs to a Fragment Shader\n",
    "- `gl_FragCoord`: a vec4 value that holds the `(x,y,z,w)` value of the fragment. Therefore, the `(x,y)` values are the location of the fragment in the image to be rendered. The `z` value is the distance from the camera. \n",
    "- `gl_FrontFacing`: a Boolean value that is true if this fragment is part of a front-facing primitive. (This only applies to triangles.)\n",
    "- `gl_PointCoord`: is a vec2 value where its `(x,y)` values are in the range [0.0,1.0]. (This only applies to rendered points, gl.POINTS. It is undefined when rendering gl.LINES and gl.TRIANGLES.)\n",
    "\n",
    "![](./figures/gl_fragcoord.png)"
   ]
  },
  {
   "cell_type": "markdown",
   "metadata": {
    "slideshow": {
     "slide_type": "subslide"
    }
   },
   "source": [
    "## Outputs from a Fragment Shader\n",
    "\n",
    "A WebGL fragment shader has one output – a color value for its fragment.\n",
    "\n",
    "- `gl_FragColor`: a RGBA (vec4) value that is placed into the color buffer for the fragment it is processing."
   ]
  },
  {
   "cell_type": "markdown",
   "metadata": {
    "slideshow": {
     "slide_type": "slide"
    }
   },
   "source": [
    "# Demo and Assignment 1"
   ]
  },
  {
   "cell_type": "markdown",
   "metadata": {
    "slideshow": {
     "slide_type": "slide"
    }
   },
   "source": [
    "# References\n",
    "- Learn WebGL: http://learnwebgl.brown37.net/index.html\n",
    "- shadertoy: https://www.shadertoy.com/\n",
    "- GLSL built-in functions: https://www.shaderific.com/glsl-functions"
   ]
  }
 ],
 "metadata": {
  "celltoolbar": "Slideshow",
  "kernelspec": {
   "display_name": "Python 3",
   "language": "python",
   "name": "python3"
  },
  "language_info": {
   "codemirror_mode": {
    "name": "ipython",
    "version": 3
   },
   "file_extension": ".py",
   "mimetype": "text/x-python",
   "name": "python",
   "nbconvert_exporter": "python",
   "pygments_lexer": "ipython3",
   "version": "3.8.5"
  }
 },
 "nbformat": 4,
 "nbformat_minor": 4
}
