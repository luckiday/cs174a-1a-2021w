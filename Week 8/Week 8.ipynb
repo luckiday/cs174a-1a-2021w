{
 "cells": [
  {
   "cell_type": "markdown",
   "metadata": {
    "slideshow": {
     "slide_type": "slide"
    }
   },
   "source": [
    "# CS-174A Discussion 1A, Week 8\n",
    "\n",
    "@ Instructor: Prof. Demetri Terzopoulos\n",
    "\n",
    "@ TA: Yunqi Guo\n",
    "\n",
    "@ https://github.com/luckiday/cs174a-1a-2021w"
   ]
  },
  {
   "cell_type": "markdown",
   "metadata": {
    "slideshow": {
     "slide_type": "slide"
    }
   },
   "source": [
    "# Outline\n",
    "\n",
    "- Assignment 3\n",
    "    - WebGL Programming\n",
    "    - Shading\n",
    "    \n",
    "- Group Project Guideline"
   ]
  },
  {
   "cell_type": "markdown",
   "metadata": {
    "slideshow": {
     "slide_type": "slide"
    }
   },
   "source": [
    "# WebGL Programming Review\n",
    "\n",
    "http://localhost:8888/notebooks/Week%202/Week%202.ipynb"
   ]
  },
  {
   "cell_type": "markdown",
   "metadata": {
    "slideshow": {
     "slide_type": "slide"
    }
   },
   "source": [
    "# Gouraud shading\n",
    "\n",
    "**Gouraud shading (AKA Smooth Shading)** is a **per-vertex** color computation. What this means is that the vertex shader must determine a color for each vertex and pass the color as an out variable to the fragment shader. Since this color is passed to the fragment shader as an in varying variable, it is interpolated across the fragments thus giving the smooth shading.\n",
    "\n",
    "![](https://images.squarespace-cdn.com/content/v1/54851541e4b0fb60932ad015/1460600910419-1QWH9J24Q01CIK9TLS1K/ke17ZwdGBToddI8pDm48kLCnt1dbVsG0Fey4dnOtl7dZw-zPPgdn4jUwVcJE1ZvW56LRaUT1pClzWs44DErAMUJFbgE-7XRK3dMEBRBhUpyVdc6X-iDvtrvB6iZTKN3ZgYH7hD9dqI0h0AFOLBfGZa1eBodYnthLExQN7IzNtGw/image-asset.jpeg?format=1500w)"
   ]
  },
  {
   "cell_type": "markdown",
   "metadata": {
    "slideshow": {
     "slide_type": "subslide"
    }
   },
   "source": [
    "# Phong shading\n",
    "\n",
    "In contrast, **Phong shading** is a **per-fragment** color computation. The vertex shader provides the normal and position data as out variables to the fragment shader. The fragment shader then interpolates these variables and computes the color.\n",
    "\n",
    "![](https://images.squarespace-cdn.com/content/v1/54851541e4b0fb60932ad015/1460600960287-JKGM1L2C555ZG6V2GRU4/ke17ZwdGBToddI8pDm48kLCnt1dbVsG0Fey4dnOtl7dZw-zPPgdn4jUwVcJE1ZvWQUxwkmyExglNqGp0IvTJZUJFbgE-7XRK3dMEBRBhUpz3d85_x-Ia43M_tzKMrPevcU556PJiqh0ddBdc3LZ-D4UAsl0C6czd0_nJ9uNNs0o/image-asset.jpeg?format=1500w)"
   ]
  },
  {
   "cell_type": "markdown",
   "metadata": {
    "slideshow": {
     "slide_type": "subslide"
    }
   },
   "source": [
    "## Just keep this in mind\n",
    "\n",
    "In Gouraud Shading, the color for the fragment is computed in the Vertex Shader. Whereas, in Phong Shading, the color for the fragment is computed in the Fragment Shader."
   ]
  },
  {
   "cell_type": "markdown",
   "metadata": {
    "slideshow": {
     "slide_type": "slide"
    }
   },
   "source": [
    "# Assignment 3 Demo"
   ]
  },
  {
   "cell_type": "markdown",
   "metadata": {
    "slideshow": {
     "slide_type": "slide"
    }
   },
   "source": [
    "# Group project requirements\n",
    "\n",
    "Expectation scales with group size (team of 4 -> 2 advanced features, team of 3 or 2 -> 1). \\\n",
    "Advanced features include but are not limited to: \n",
    "- Shadowing\n",
    "- Mirroring\n",
    "- Scene Graphs\n",
    "- Collision Detection\n",
    "- Physics-based simulation\n",
    "- normal map/ bump mapping.\n",
    "- Mouse picking\n",
    "- Particle system\n",
    "- Splines and other geometric models\n",
    "- Ray Tracing\n",
    "\n",
    "You can only use tiny-graphics and WebGL for rendering. \n",
    "https://github.com/intro-graphics/tiny-graphics-js"
   ]
  },
  {
   "cell_type": "markdown",
   "metadata": {
    "slideshow": {
     "slide_type": "slide"
    }
   },
   "source": [
    "# Collision Detection\n",
    "\n",
    "- Object Representation\n",
    "  - We perform collision detection by computing whether one primitive intersects another.\n",
    "  - We could do this by comparing all triangles in a scene with each other.\n",
    "    - This would be slow and produce a lot of useless results.\n",
    "  - Stick to objects in scene we care about.\n",
    "    - Still checking objects not colliding with anything.\n",
    "    - Say we have ten objects that potentially hit each other made up of 100 triangles each\n",
    "    - Several tens of thousands of comparisons required!\n",
    "  - Need to be smarter about this..."
   ]
  },
  {
   "cell_type": "markdown",
   "metadata": {
    "slideshow": {
     "slide_type": "slide"
    }
   },
   "source": [
    "# Collision Detection\n",
    "\n",
    "- Object Representation\n",
    "  - Has to be a better way\n",
    "  - There is, it is called a bounding volume.\n",
    "    - A sphere is the simplest.\n",
    "  - Not an exact representation, but...\n",
    "  - Now we only need around 50 comparisons!\n",
    "  - If two spheres intersect a more thorough check can then be performed.\n",
    "  - We spend time only when we need to\n",
    "  - Or, test itself can be sufficient if objects are far enough away and close inspection is not necessary."
   ]
  },
  {
   "cell_type": "markdown",
   "metadata": {
    "slideshow": {
     "slide_type": "subslide"
    }
   },
   "source": [
    "## Object Representations\n",
    "\n",
    "- Sphere\n",
    "- Rectangle\n",
    "- Axis-aligned bounding box (AABB)"
   ]
  },
  {
   "cell_type": "markdown",
   "metadata": {
    "slideshow": {
     "slide_type": "subslide"
    }
   },
   "source": [
    "### Bounding Sphere\n",
    "- Simple intersection test...\n",
    "\n",
    "```c\n",
    "struct Sphere {\n",
    "    Point c;\n",
    "    float r; \n",
    "};\n",
    "\n",
    "int testSphere( Sphere a, Sphere b )\n",
    "{\n",
    "    // Calculate squared distance between centers\n",
    "    Vector d = a.c – b.c;\n",
    "    float dist2 = Dot( d, d );\n",
    "    // Spheres intersect if squared distance is less than // squared sum of radii\n",
    "    float radiusSum = a.r + b.r;\n",
    "    return dist2 <= radiusSum * radiusSum; \n",
    "}\n",
    "```"
   ]
  },
  {
   "cell_type": "markdown",
   "metadata": {
    "slideshow": {
     "slide_type": "subslide"
    }
   },
   "source": [
    "### Axis Aligned Bounding Box\n",
    "- Example, intersection of two AABB\n",
    "\n",
    "```c\n",
    "struct AABB {\n",
    "    Point min;\n",
    "    Point max;\n",
    "};\n",
    "\n",
    "int testAABB( AABB a, AABB b )\n",
    "{\n",
    "    // Exit if separated along an axis\n",
    "    if ( a.max[0] < b.min[0] || a.min[0] > b.max[0] ) return 0; \n",
    "    if ( a.max[1] < b.min[1] || a.min[1] > b.max[1] ) return 0; \n",
    "    if ( a.max[2] < b.min[2] || a.min[2] > b.max[2] ) return 0; \n",
    "    // Overlapping on all axes means there is an intersection \n",
    "    return 1;\n",
    "}\n",
    "```"
   ]
  }
 ],
 "metadata": {
  "celltoolbar": "Slideshow",
  "kernelspec": {
   "display_name": "Python 3",
   "language": "python",
   "name": "python3"
  },
  "language_info": {
   "codemirror_mode": {
    "name": "ipython",
    "version": 3
   },
   "file_extension": ".py",
   "mimetype": "text/x-python",
   "name": "python",
   "nbconvert_exporter": "python",
   "pygments_lexer": "ipython3",
   "version": "3.8.5"
  }
 },
 "nbformat": 4,
 "nbformat_minor": 4
}
