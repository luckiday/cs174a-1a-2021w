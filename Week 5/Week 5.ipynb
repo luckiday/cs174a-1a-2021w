{
 "cells": [
  {
   "cell_type": "markdown",
   "metadata": {
    "slideshow": {
     "slide_type": "slide"
    }
   },
   "source": [
    "# CS-174A Discussion 1A, Week 5\n",
    "\n",
    "@ Instructor: Prof. Demetri Terzopoulos\n",
    "\n",
    "@ TA: Yunqi Guo\n",
    "\n",
    "@ https://github.com/luckiday/cs174a-1a-2021w"
   ]
  },
  {
   "cell_type": "markdown",
   "metadata": {
    "slideshow": {
     "slide_type": "slide"
    }
   },
   "source": [
    "# Logistics\n",
    "\n",
    "- Online midterm instructions \n",
    "- Midterm scope: slides02 to slides06."
   ]
  },
  {
   "cell_type": "markdown",
   "metadata": {
    "slideshow": {
     "slide_type": "slide"
    }
   },
   "source": [
    "# Last time\n",
    "\n",
    "- Transformations: Pumpkin problem \n",
    "- Change of basis\n",
    "- Tiny graphics demos\n",
    "\n",
    "# Next up\n",
    "\n",
    "- Assignment 2\n",
    "- Midterm review"
   ]
  },
  {
   "cell_type": "markdown",
   "metadata": {
    "slideshow": {
     "slide_type": "slide"
    }
   },
   "source": [
    "# Texture Mapping\n",
    "\n",
    "- There are small surface details on real objects that need to be taken into account for better realism. \n",
    "  \n",
    "  <img src=\"./figures/texture1.png\" alt=\"drawing\" width=\"400\"/>"
   ]
  },
  {
   "cell_type": "markdown",
   "metadata": {
    "slideshow": {
     "slide_type": "subslide"
    }
   },
   "source": [
    "- To take these into account apply texture to our images to make the surfaces realistic \n",
    "\n",
    "  - We can scan textures from real world or paint them\n",
    "\n",
    "  - Store the texture as a 2D image\n",
    "\n",
    "  - We map the texture to **object space** and then **screen space**\n",
    "\n",
    "    <img src=\"./figures/texture2.png\" alt=\"drawing\" width=\"400\"/>"
   ]
  },
  {
   "cell_type": "markdown",
   "metadata": {
    "slideshow": {
     "slide_type": "subslide"
    }
   },
   "source": [
    "  - From screen to texture:\n",
    "\n",
    "    - Inverse the transform $(s_x,s_y)$ to get the world $(x,y,z)$\n",
    "    - With $(x,y,z)$: \n",
    "\n",
    "    <img src=\"./figures/texture4.png\" alt=\"drawing\" width=\"550\"/>"
   ]
  },
  {
   "cell_type": "markdown",
   "metadata": {
    "slideshow": {
     "slide_type": "subslide"
    }
   },
   "source": [
    "## Assignment 2\n",
    "\n",
    "- Demo"
   ]
  },
  {
   "cell_type": "markdown",
   "metadata": {
    "slideshow": {
     "slide_type": "slide"
    }
   },
   "source": [
    "# Midterm Review\n"
   ]
  },
  {
   "cell_type": "markdown",
   "metadata": {
    "slideshow": {
     "slide_type": "subslide"
    }
   },
   "source": [
    "Q: What is the diff between affine combinations and convex combination of points?\n"
   ]
  },
  {
   "cell_type": "markdown",
   "metadata": {
    "slideshow": {
     "slide_type": "subslide"
    }
   },
   "source": [
    "## Points and Vectors\n",
    "\n",
    "Q: Parametric equations of line and triangle (barycentric coordinamtes)"
   ]
  },
  {
   "cell_type": "markdown",
   "metadata": {
    "slideshow": {
     "slide_type": "subslide"
    }
   },
   "source": [
    "A:\n",
    "\n",
    "- *Line*: $P = \\alpha_1 P_1 + \\alpha_2 P_2$, and  $\\alpha_1 + \\alpha_2 = 1$.\n",
    "- *Triangle*: \n",
    "  <img src=\"./figure/triangle.png\" alt=\"drawing\" width=\"300\"/>"
   ]
  },
  {
   "cell_type": "markdown",
   "metadata": {
    "slideshow": {
     "slide_type": "subslide"
    }
   },
   "source": [
    "A: *Barycentric coordinates*\n",
    "\n",
    "Triangle is convex so any point inside can be represented as a convex sum\n",
    "\n",
    "$$\n",
    "P(a1, a2, a3)=a1P+a2Q+a3R\n",
    "$$\n",
    "where \n",
    "$$\n",
    "a1 +a2 +a3 = 1,\n",
    "a_i\\geq0\n",
    "$$\n",
    "The representation is called the barycentric coordinate representation of P."
   ]
  },
  {
   "cell_type": "markdown",
   "metadata": {
    "slideshow": {
     "slide_type": "subslide"
    }
   },
   "source": [
    "## Change of Basis and Model-view transformation\n",
    "\n",
    "<img src=\"figures/view_coord.png\" alt=\"drawing\" style=\"width:400px;\"/>"
   ]
  },
  {
   "cell_type": "markdown",
   "metadata": {
    "slideshow": {
     "slide_type": "subslide"
    }
   },
   "source": [
    "## Viewing\n",
    "<img src=\"./figure/look.png\" alt=\"drawing\" width=\"400\"/>"
   ]
  },
  {
   "cell_type": "markdown",
   "metadata": {
    "slideshow": {
     "slide_type": "subslide"
    }
   },
   "source": [
    "### Projection\n",
    "\n",
    "- Orthographic projection matrix:\n",
    "$$\n",
    "N=\\text{ST}=\\left(\n",
    "\\begin{array}{cccc}\n",
    " \\frac{2}{r-l} & 0 & 0 & -\\frac{l+r}{r-l} \\\\\n",
    " 0 & \\frac{2}{t-b} & 0 & -\\frac{b+t}{t-b} \\\\\n",
    " 0 & 0 & -\\frac{2}{f-n} & -\\frac{f+n}{f-n} \\\\\n",
    " 0 & 0 & 0 & 1 \\\\\n",
    "\\end{array}\n",
    "\\right)\n",
    "$$\n"
   ]
  },
  {
   "cell_type": "markdown",
   "metadata": {
    "slideshow": {
     "slide_type": "subslide"
    }
   },
   "source": [
    "- Perspective projection matrix:\n",
    "    \n",
    "$$\n",
    "P=NSH=\\left(\n",
    "\\begin{array}{cccc}\n",
    " \\frac{n}{r} & 0 & 0 & 0 \\\\\n",
    " 0 & \\frac{n}{t} & 0 & 0 \\\\\n",
    " 0 & 0 & -\\frac{f+n}{f-n} & -\\frac{2 f n}{f-n} \\\\\n",
    " 0 & 0 & -1 & 0 \\\\\n",
    "\\end{array}\n",
    "\\right)\n",
    "$$"
   ]
  },
  {
   "cell_type": "markdown",
   "metadata": {
    "slideshow": {
     "slide_type": "subslide"
    }
   },
   "source": [
    "- Derivation\n",
    "$$\n",
    "N=\\left(\n",
    "\\begin{array}{cccc}\n",
    " 1 & 0 & 0 & 0 \\\\\n",
    " 0 & 1 & 0 & 0 \\\\\n",
    " 0 & 0 & a & b \\\\\n",
    " 0 & 0 & -1 & 0 \\\\\n",
    "\\end{array}\n",
    "\\right)\n",
    "$$\n",
    "  After perspective division, the point $(x, y, z, 1)$ goes to\n",
    "$$\n",
    "x’’ = -x/z,~~\n",
    "y’’ = -y/z,~~\n",
    "z’’ = -(a+b/z)\n",
    "$$\n",
    "\n",
    "  When $z = f, z'' = -1$; when $z = n, z'' = 1$."
   ]
  },
  {
   "cell_type": "markdown",
   "metadata": {
    "slideshow": {
     "slide_type": "slide"
    }
   },
   "source": [
    "# Sample Questions\n",
    "\n",
    "1. Q: Briefly describe what changes you would expect to see in the image with respect to the following changes in viewing parameters, all other params remaining unchanged:\n",
    "\n",
    "    1. Half-angle-of-view decreases\n",
    "\n",
    "    // 2. Aspect ratio increases\n",
    "\n",
    "    3. COI moves closer to eye point\n",
    "\n",
    "    4. Eye point moves away from COI\n",
    "\n",
    "    5. Top vector becomes upside down\n",
    "    \n",
    "    6. Distance between hither and yon increases"
   ]
  },
  {
   "cell_type": "markdown",
   "metadata": {
    "slideshow": {
     "slide_type": "subslide"
    }
   },
   "source": [
    "1. Answers:\n",
    "\n",
    "    1. Half-angle-of-view decreases: objects will project larger on window and viewport, because camera is now capturing lesser volume of the scene while image size remains same\n",
    "\n",
    "    2. Aspect ratio increases: AR increases implies viewport became wider or the height decreased; if angle did not change then some objects may be clipped off; the final image will definitely look wider\n",
    "\n",
    "    3. COI moves closer to eye point: no change in image\n",
    "\n",
    "    4. Eye point moves away from COI: a different image will be grabbed because the location of eye changed\n",
    "\n",
    "    5. Top vector becomes upside down: image will rotate 180\n",
    "\n",
    "    6. Distance between hither and yon increases: depending on which direction H and Y moves, more or less objects will be included in the view volume"
   ]
  },
  {
   "cell_type": "markdown",
   "metadata": {
    "slideshow": {
     "slide_type": "subslide"
    }
   },
   "source": [
    "2. Prove that the perspective projection of a 3D point $(x,y,z)$ onto the plane $z=d$ is given by $(\\frac{x}{z}d, \\frac{y}{z} d, d)$"
   ]
  },
  {
   "cell_type": "markdown",
   "metadata": {
    "slideshow": {
     "slide_type": "slide"
    }
   },
   "source": [
    "3. \n",
    "<img src=\"figures/pumpkin.png\" alt=\"drawing\" width=\"600\"/>"
   ]
  }
 ],
 "metadata": {
  "celltoolbar": "Slideshow",
  "kernelspec": {
   "display_name": "Python 3",
   "language": "python",
   "name": "python3"
  },
  "language_info": {
   "codemirror_mode": {
    "name": "ipython",
    "version": 3
   },
   "file_extension": ".py",
   "mimetype": "text/x-python",
   "name": "python",
   "nbconvert_exporter": "python",
   "pygments_lexer": "ipython3",
   "version": "3.8.5"
  }
 },
 "nbformat": 4,
 "nbformat_minor": 2
}
