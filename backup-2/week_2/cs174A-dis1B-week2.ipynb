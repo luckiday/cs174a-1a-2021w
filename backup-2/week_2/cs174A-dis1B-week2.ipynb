{
 "cells": [
  {
   "cell_type": "markdown",
   "metadata": {
    "slideshow": {
     "slide_type": "slide"
    }
   },
   "source": [
    "# CS-174A Discussion 1B, Week 2\n",
    "\n",
    "@ Yunqi Guo\n",
    "\n",
    "@ DODD 161 / Friday / 12:00pm-1:50pm\n",
    "\n",
    "@ https://github.com/luckiday/cs174a-1b-2019f   (Short link: https://bit.ly/32Zt3sg)"
   ]
  },
  {
   "cell_type": "markdown",
   "metadata": {
    "slideshow": {
     "slide_type": "slide"
    }
   },
   "source": [
    "# Outline\n",
    "\n",
    "- Transformations\n",
    "  - Shearing\n",
    "  - Reflection\n",
    "- Make animation with tiny-graphics.js"
   ]
  },
  {
   "cell_type": "markdown",
   "metadata": {
    "slideshow": {
     "slide_type": "slide"
    }
   },
   "source": [
    "# Transformation\n",
    "\n",
    "- Shearing\n",
    "- Reflection"
   ]
  },
  {
   "cell_type": "markdown",
   "metadata": {
    "slideshow": {
     "slide_type": "subslide"
    }
   },
   "source": [
    "## Shear\n",
    "\n",
    "$$x' = x + \\mathrm{Sh}_{x}^{y} y + \\mathrm{Sh}_{x}^{z} z$$\n",
    "\n",
    "$$y' = \\mathrm{Sh}_{y}^{x}x + y +\\mathrm{Sh}_{y}^{z}z$$\n",
    "\n",
    "$$z' = \\mathrm{Sh}_{z}^{x}x + \\mathrm{Sh}_{z}^{y}y + z$$\n",
    "\n",
    "$$\n",
    "\\left(\n",
    "\\begin{array}{c}\n",
    " x' \\\\\n",
    " y' \\\\\n",
    " z' \\\\\n",
    " 1 \\\\\n",
    "\\end{array}\n",
    "\\right)=\\left(\n",
    "\\begin{array}{cccc}\n",
    " 1 & \\mathrm{Sh}_{x}^{y} & \\mathrm{Sh}_{x}^{z} & 0 \\\\\n",
    " \\mathrm{Sh}_{y}^{x} & 1 & \\mathrm{Sh}_{y}^{z} & 0 \\\\\n",
    " \\mathrm{Sh}_{z}^{x} & \\mathrm{Sh}_{z}^{y} & 1 & 0 \\\\\n",
    " 0 & 0 & 0 & 1 \\\\\n",
    "\\end{array}\n",
    "\\right) \\left(\n",
    "\\begin{array}{c}\n",
    " x \\\\\n",
    " y \\\\\n",
    " z \\\\\n",
    " 1 \\\\\n",
    "\\end{array}\n",
    "\\right)\n",
    "$$"
   ]
  },
  {
   "cell_type": "markdown",
   "metadata": {
    "slideshow": {
     "slide_type": "subslide"
    }
   },
   "source": [
    "## Reflection\n",
    "To reflect a point through a plane \n",
    "$ax + by + cz = 0$ \n",
    "(which goes through the origin), if the L2 norm of $a, b $ and $c$ is unity, the transformation matrix can be expressed as:\n",
    "\n",
    "\n",
    "$$\n",
    "\\left(\n",
    "\\begin{array}{c}\n",
    " x' \\\\\n",
    " y' \\\\\n",
    " z' \\\\\n",
    " 1 \\\\\n",
    "\\end{array}\n",
    "\\right)=\\left(\n",
    "\\begin{array}{cccc}\n",
    " 1-2a^2 & -2ab & -2ac & 0 \\\\\n",
    " -2ab & 1-2b^2 & -2bc & 0 \\\\\n",
    " -2ac & -2bc & 1 - 2c^2 & 0 \\\\\n",
    " 0 & 0 & 0 & 1 \\\\\n",
    "\\end{array}\n",
    "\\right) \\left(\n",
    "\\begin{array}{c}\n",
    " x \\\\\n",
    " y \\\\\n",
    " z \\\\\n",
    " 1 \\\\\n",
    "\\end{array}\n",
    "\\right)\n",
    "$$\n"
   ]
  },
  {
   "cell_type": "markdown",
   "metadata": {
    "slideshow": {
     "slide_type": "slide"
    }
   },
   "source": [
    "# Make animation with tiny-graphics.js\n",
    "\n",
    "- Draw a graph with outline\n",
    "- Draw multiple shapes\n",
    "- Animation"
   ]
  }
 ],
 "metadata": {
  "kernelspec": {
   "display_name": "Python 3",
   "language": "python",
   "name": "python3"
  },
  "language_info": {
   "codemirror_mode": {
    "name": "ipython",
    "version": 3
   },
   "file_extension": ".py",
   "mimetype": "text/x-python",
   "name": "python",
   "nbconvert_exporter": "python",
   "pygments_lexer": "ipython3",
   "version": "3.7.4"
  }
 },
 "nbformat": 4,
 "nbformat_minor": 2
}
