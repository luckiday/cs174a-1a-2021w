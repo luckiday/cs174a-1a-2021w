{
 "cells": [
  {
   "cell_type": "markdown",
   "metadata": {
    "slideshow": {
     "slide_type": "slide"
    }
   },
   "source": [
    "# CS-174A Discussion 1B, Week 6\n",
    "\n",
    "@ Yunqi Guo\n",
    "\n",
    "@ DODD 161 / Friday / 12:00pm-1:50pm\n",
    "\n",
    "@ https://github.com/luckiday/cs174a-1b-2019f   (Short link: https://bit.ly/32Zt3sg)"
   ]
  },
  {
   "cell_type": "markdown",
   "metadata": {
    "slideshow": {
     "slide_type": "slide"
    }
   },
   "source": [
    "# Group Project Discussion\n",
    "\n",
    "- What is like to be a decent project"
   ]
  },
  {
   "cell_type": "markdown",
   "metadata": {
    "slideshow": {
     "slide_type": "slide"
    }
   },
   "source": [
    "# Average Project\n",
    "\n",
    "<img src=\"./figures/p1.png\" alt=\"drawing\" width=\"500\"/>\n",
    "\n",
    "https://getsetproject.com/info-project.php?id=314&name=Traffic%20Signal%20Cg%20mini%20Project%20using%20OpenGL"
   ]
  },
  {
   "cell_type": "markdown",
   "metadata": {
    "slideshow": {
     "slide_type": "slide"
    }
   },
   "source": [
    "# What is Like to be a *Cool* Project\n",
    "\n",
    "- Novel in techniques\n",
    "- Attractive scenes\n",
    "- New interaction in games\n",
    "- etc. "
   ]
  },
  {
   "cell_type": "markdown",
   "metadata": {
    "slideshow": {
     "slide_type": "subslide"
    }
   },
   "source": [
    "## Novel in Techniques\n",
    "\n",
    "- [WebGL Water](http://madebyevan.com/webgl-water/)\n"
   ]
  },
  {
   "cell_type": "markdown",
   "metadata": {
    "slideshow": {
     "slide_type": "subslide"
    }
   },
   "source": [
    "## Novel in Techniques\n",
    "\n",
    "- Simulate the abstract substance\n",
    "- e.g. water, fog, clouds, smoke.\n",
    "- Simplify the complex movements and interactions/ collisions"
   ]
  },
  {
   "cell_type": "markdown",
   "metadata": {
    "slideshow": {
     "slide_type": "subslide"
    }
   },
   "source": [
    "## Attractive Scenes\n",
    "\n",
    "- [Make me pulse wish 2017](http://2017.makemepulse.com)"
   ]
  },
  {
   "cell_type": "markdown",
   "metadata": {
    "slideshow": {
     "slide_type": "subslide"
    }
   },
   "source": [
    "## Attractive Scenes\n",
    "\n",
    "- Composition\n",
    "- Color"
   ]
  },
  {
   "cell_type": "markdown",
   "metadata": {
    "slideshow": {
     "slide_type": "subslide"
    }
   },
   "source": [
    "## Attractive Scenes - Composition\n",
    "\n",
    "- Rule of Third\n",
    "- Symmetry / Patterns\n",
    "- Simplify"
   ]
  },
  {
   "cell_type": "markdown",
   "metadata": {
    "slideshow": {
     "slide_type": "subslide"
    }
   },
   "source": [
    "## Attractive Scenes - Composition\n",
    "\n",
    "- Rule of Third\n",
    "  <img src=\"./figures/rule1.png\" alt=\"drawing\" width=\"500\"/>\n",
    "- Symmetry / Patterns\n",
    "- Simplify"
   ]
  },
  {
   "cell_type": "markdown",
   "metadata": {
    "slideshow": {
     "slide_type": "subslide"
    }
   },
   "source": [
    "## Attractive Scenes - Composition\n",
    "\n",
    "- Rule of Third\n",
    "- Symmetry / Patterns\n",
    "  <img src=\"./figures/rule2.png\" alt=\"drawing\" width=\"500\"/>\n",
    "- Simplify"
   ]
  },
  {
   "cell_type": "markdown",
   "metadata": {
    "slideshow": {
     "slide_type": "subslide"
    }
   },
   "source": [
    "## Attractive Scenes - Composition\n",
    "\n",
    "- Rule of Third\n",
    "- Symmetry / Patterns\n",
    "- Simplify\n",
    "  <img src=\"./figures/rule3.png\" alt=\"drawing\" width=\"500\"/>\n"
   ]
  },
  {
   "cell_type": "markdown",
   "metadata": {
    "slideshow": {
     "slide_type": "subslide"
    }
   },
   "source": [
    "## Attractive Scenes - Color\n",
    "<img src=\"./figures/color.png\" alt=\"drawing\" width=\"800\"/>"
   ]
  },
  {
   "cell_type": "markdown",
   "metadata": {
    "slideshow": {
     "slide_type": "subslide"
    }
   },
   "source": [
    "## Attractive Scenes - Color\n",
    "\n",
    "### Rules for color selection\n",
    "- Analogous\n",
    "- Monochromatic\n",
    "- Complementary\n",
    "- etc."
   ]
  },
  {
   "cell_type": "markdown",
   "metadata": {
    "slideshow": {
     "slide_type": "fragment"
    }
   },
   "source": [
    "### Tool\n",
    "\n",
    "- https://color.adobe.com/create "
   ]
  }
 ],
 "metadata": {
  "kernelspec": {
   "display_name": "Python 3",
   "language": "python",
   "name": "python3"
  },
  "language_info": {
   "codemirror_mode": {
    "name": "ipython",
    "version": 3
   },
   "file_extension": ".py",
   "mimetype": "text/x-python",
   "name": "python",
   "nbconvert_exporter": "python",
   "pygments_lexer": "ipython3",
   "version": "3.7.4"
  }
 },
 "nbformat": 4,
 "nbformat_minor": 2
}
