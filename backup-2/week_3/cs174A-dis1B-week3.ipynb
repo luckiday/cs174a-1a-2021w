{
 "cells": [
  {
   "cell_type": "markdown",
   "metadata": {
    "slideshow": {
     "slide_type": "slide"
    }
   },
   "source": [
    "# CS-174A Discussion 1B, Week 3\n",
    "\n",
    "@ Yunqi Guo\n",
    "\n",
    "@ DODD 161 / Friday / 12:00pm-1:50pm\n",
    "\n",
    "@ https://github.com/luckiday/cs174a-1b-2019f   (Short link: https://bit.ly/32Zt3sg)"
   ]
  },
  {
   "cell_type": "markdown",
   "metadata": {
    "slideshow": {
     "slide_type": "slide"
    }
   },
   "source": [
    "# Outline\n",
    "\n",
    "**Viewing**\n",
    "- Spaces\n",
    "  - Model space\n",
    "  - Objective/world space\n",
    "  - Eye/camera space\n",
    "  - Screen space\n",
    "- Projections\n",
    "  - Parallel\n",
    "  - Perspective"
   ]
  },
  {
   "cell_type": "markdown",
   "metadata": {
    "slideshow": {
     "slide_type": "slide"
    }
   },
   "source": [
    "# Objective\n",
    "\n",
    "Our goal is to\n",
    "- Use transformations to project the vertices of objects onto the projection plane.\n",
    "- Specifically we will create transformations to go from object to camera to clip coordinates.\n",
    "\n",
    "![](figures/projection.png)"
   ]
  },
  {
   "cell_type": "markdown",
   "metadata": {
    "slideshow": {
     "slide_type": "slide"
    }
   },
   "source": [
    "# From World Space to Camera Space\n",
    "## Model-view transformation\n",
    "- Does not take us all the way to clip coordinates.\n",
    "- Later, we need a projection transformation for that.\n",
    "- Model-view gets objects in front of the camera, potentially.\n",
    "- A Projection defines which and how those objects will appear on the screen.\n",
    "![](figures/pipeline.png)"
   ]
  },
  {
   "cell_type": "markdown",
   "metadata": {
    "slideshow": {
     "slide_type": "subslide"
    }
   },
   "source": [
    "## Positioning the (getting things in from of the) “camera”\n",
    "\n",
    "- Recall that the default is “looking” down the $–z$ axis at the origin $(0,0,0)$.\n",
    "  - This is equivalent to model-view set to the identity matrix.\n",
    "- Remember, transformations are specified in reverse.\n",
    "  - That means we specify the position of the camera first."
   ]
  },
  {
   "cell_type": "markdown",
   "metadata": {
    "slideshow": {
     "slide_type": "subslide"
    }
   },
   "source": [
    "## Look-at\n",
    "We define three terms\n",
    "- A point describing the location of the eye. \n",
    "- A point the eye is looking at.\n",
    "- An up direction for the camera.\n",
    "![](figures/look.png)"
   ]
  },
  {
   "cell_type": "markdown",
   "metadata": {
    "slideshow": {
     "slide_type": "subslide"
    }
   },
   "source": [
    "## Look-at\n",
    "- The at and eye points give us\n",
    "  - the view-plane-normal or vpn \n",
    "- The up vector is usually $(0, 1, 0)$\n",
    "  - Or, $(0, 1, 0, 0)$ in homogeneous coordinates! \n",
    "- We then calculate the following\n",
    "$$\n",
    "n=\\frac{eye - at}{|eye - at|}, \n",
    "u=\\frac{up\\times n}{|up\\times n|}, \n",
    "v=\\frac{n\\times u}{|n\\times u|}\n",
    "$$"
   ]
  },
  {
   "cell_type": "markdown",
   "metadata": {
    "slideshow": {
     "slide_type": "subslide"
    }
   },
   "source": [
    "## Look-at\n",
    "- The at and eye points give us\n",
    "  - the view-plane-normal or vpn \n",
    "- The up vector is usually $(0, 1, 0)$\n",
    "  - Or, $(0, 1, 0, 0)$ in homogeneous coordinates! \n",
    "- We then calculate the following\n",
    "\n",
    "$$\n",
    "V=RT=\\left(\n",
    "\\begin{array}{cccc}\n",
    " u_x & u_y & u_z & -eye_x u_x-eye_y u_y-eye_z u_z \\\\\n",
    " v_x & v_y & v_z & -eye_x v_x-eye_y v_y-eye_z v_z \\\\\n",
    " n_x & n_y & n_z & -eye_x n_x-eye_y n_y-eye_z n_z \\\\\n",
    " 0 & 0 & 0 & 1 \\\\\n",
    "\\end{array}\n",
    "\\right)\n",
    "$$\n"
   ]
  },
  {
   "cell_type": "markdown",
   "metadata": {
    "slideshow": {
     "slide_type": "slide"
    }
   },
   "source": [
    "# Projection\n",
    "- Perspective\n",
    "- Parallel (orthographic)"
   ]
  },
  {
   "cell_type": "markdown",
   "metadata": {
    "slideshow": {
     "slide_type": "subslide"
    }
   },
   "source": [
    "## Projections – Parallel (orthographic)\n",
    "- Once in camera coordinates we need a projection transformation to get us to clip coordinates.\n",
    "- The transformation matrix that gives us an orthographic projection is:\n",
    "\n",
    "$$\n",
    "M=\\left(\n",
    "\\begin{array}{cccc}\n",
    " 1 & 0 & 0 & 0 \\\\\n",
    " 0 & 1 & 0 & 0 \\\\\n",
    " 0 & 0 & 0 & 0 \\\\\n",
    " 0 & 0 & 0 & 1 \\\\\n",
    "\\end{array}\n",
    "\\right)\n",
    "$$"
   ]
  },
  {
   "cell_type": "markdown",
   "metadata": {
    "slideshow": {
     "slide_type": "subslide"
    }
   },
   "source": [
    "## Projections – Parallel (orthographic)\n",
    "- However, M is applied in the hardware after the vertex shader.\n",
    "  - Which is in clip coordinates\n",
    "- How do we “include” or “see” more of our scene?\n"
   ]
  },
  {
   "cell_type": "markdown",
   "metadata": {
    "slideshow": {
     "slide_type": "subslide"
    }
   },
   "source": [
    "## Projections – Parallel (orthographic)\n",
    "- We scale what we want to “include” to fit within the canonical view volume. i.e. (-1,1),(-1,1),(-1,1)\n",
    "- Function in `tiny-graphics.js`:\n",
    "    ```js\n",
    "    orthographic(left, right, bottom, top, near, far)   \n",
    "    ```\n",
    "    \n",
    "![](figures/parallel.png)"
   ]
  },
  {
   "cell_type": "markdown",
   "metadata": {
    "slideshow": {
     "slide_type": "subslide"
    }
   },
   "source": [
    "## Projections – Parallel (orthographic)\n",
    "    \n",
    "$$\n",
    "N=\\text{ST}=\\left(\n",
    "\\begin{array}{cccc}\n",
    " \\frac{2}{r-l} & 0 & 0 & -\\frac{l+r}{r-l} \\\\\n",
    " 0 & \\frac{2}{t-b} & 0 & -\\frac{b+t}{t-b} \\\\\n",
    " 0 & 0 & -\\frac{2}{f-n} & -\\frac{f+n}{f-n} \\\\\n",
    " 0 & 0 & 0 & 1 \\\\\n",
    "\\end{array}\n",
    "\\right)\n",
    "$$"
   ]
  },
  {
   "cell_type": "markdown",
   "metadata": {
    "slideshow": {
     "slide_type": "subslide"
    }
   },
   "source": [
    "## Projections – Perspective\n",
    "\n",
    "- Basic symmetrical perspective projection\n",
    "- The point $(x, y, z)$ is projected through the projection plane to the eye point (or center of projection COP)\n",
    "- We can compute the point of intersection with\n",
    "$$\n",
    "x_p = \\frac{x}{z/d},\n",
    "y_p = \\frac{y}{z/d}\n",
    "$$\n",
    "![](figures/perspective2.png)"
   ]
  },
  {
   "cell_type": "markdown",
   "metadata": {
    "slideshow": {
     "slide_type": "subslide"
    }
   },
   "source": [
    "## Projections – Perspective\n",
    "\n",
    "- The simple perspective projection matrix is\n",
    "$$\n",
    "M=\\left(\n",
    "\\begin{array}{cccc}\n",
    " 1 & 0 & 0 & 0 \\\\\n",
    " 0 & 1 & 0 & 0 \\\\\n",
    " 0 & 0 & 1 & 0 \\\\\n",
    " 0 & 0 & \\frac{1}{d} & 0 \\\\\n",
    "\\end{array}\n",
    "\\right)\n",
    "$$"
   ]
  },
  {
   "cell_type": "markdown",
   "metadata": {
    "slideshow": {
     "slide_type": "subslide"
    }
   },
   "source": [
    "## Projections – Perspective\n",
    "\n",
    "- Uh oh, the homogeneous coordinate is no longer 1?\n",
    "$$\n",
    "q=\\left(\n",
    "\\begin{array}{c}\n",
    " x \\\\\n",
    " y \\\\\n",
    " z \\\\\n",
    " \\frac{z}{d} \\\\\n",
    "\\end{array}\n",
    "\\right)=\\left(\n",
    "\\begin{array}{cccc}\n",
    " 1 & 0 & 0 & 0 \\\\\n",
    " 0 & 1 & 0 & 0 \\\\\n",
    " 0 & 0 & 1 & 0 \\\\\n",
    " 0 & 0 & \\frac{1}{d} & 0 \\\\\n",
    "\\end{array}\n",
    "\\right) \\left(\n",
    "\\begin{array}{c}\n",
    " x \\\\\n",
    " y \\\\\n",
    " z \\\\\n",
    " 1 \\\\\n",
    "\\end{array}\n",
    "\\right)\n",
    "$$\n",
    "\n",
    "- We have to divide by the homogeneous coordinate to get back to 3D space.\n",
    "$$\n",
    "q=\\left(\n",
    "\\begin{array}{c}\n",
    " x_p \\\\\n",
    " y_p \\\\\n",
    " z_p \\\\\n",
    " 1 \\\\\n",
    "\\end{array}\n",
    "\\right)=\\left(\n",
    "\\begin{array}{c}\n",
    " \\frac{x}{\\frac{z}{d}} \\\\\n",
    " \\frac{y}{\\frac{z}{d}} \\\\\n",
    " d \\\\\n",
    " 1 \\\\\n",
    "\\end{array}\n",
    "\\right)\n",
    "$$"
   ]
  },
  {
   "cell_type": "markdown",
   "metadata": {
    "slideshow": {
     "slide_type": "subslide"
    }
   },
   "source": [
    "## Projections – Perspective\n",
    "\n",
    "**Generalization!**\n",
    "\n",
    "$$\n",
    "N=\\left(\n",
    "\\begin{array}{cccc}\n",
    " 1 & 0 & 0 & 0 \\\\\n",
    " 0 & 1 & 0 & 0 \\\\\n",
    " 0 & 0 & a & b \\\\\n",
    " 0 & 0 & -1 & 0 \\\\\n",
    "\\end{array}\n",
    "\\right)\n",
    "$$\n",
    "after perspective division, the point $(x, y, z, 1)$ goes to\n",
    "$$\n",
    "x’’ = -x/z,~~\n",
    "y’’ = -y/z,~~\n",
    "z’’ = -(a+b/z)\n",
    "$$"
   ]
  },
  {
   "cell_type": "markdown",
   "metadata": {
    "slideshow": {
     "slide_type": "subslide"
    }
   },
   "source": [
    "## Projections – Perspective\n",
    "\n",
    "- perspective projection matrix:\n",
    "$$\n",
    "P=NSH=\\left(\n",
    "\\begin{array}{cccc}\n",
    " \\frac{n}{r} & 0 & 0 & 0 \\\\\n",
    " 0 & \\frac{n}{t} & 0 & 0 \\\\\n",
    " 0 & 0 & -\\frac{f+n}{f-n} & -\\frac{2 f n}{f-n} \\\\\n",
    " 0 & 0 & -1 & 0 \\\\\n",
    "\\end{array}\n",
    "\\right)\n",
    "$$\n",
    "\n",
    "![](figures/perspective3.png)"
   ]
  },
  {
   "cell_type": "markdown",
   "metadata": {
    "slideshow": {
     "slide_type": "subslide"
    }
   },
   "source": [
    "## Projections – Perspective\n",
    "- WebGL Perspective\n",
    "    ```js\n",
    "    frustum(left,right,bottom,top,near,far)\n",
    "    ```"
   ]
  },
  {
   "cell_type": "markdown",
   "metadata": {
    "slideshow": {
     "slide_type": "subslide"
    }
   },
   "source": [
    "## Projections – Perspective\n",
    "- Function in `tiny-graphics.js`:\n",
    "    ```js\n",
    "    perspective(fov_y, aspect, near, far)         \n",
    "    ```"
   ]
  }
 ],
 "metadata": {
  "kernelspec": {
   "display_name": "Python 3",
   "language": "python",
   "name": "python3"
  },
  "language_info": {
   "codemirror_mode": {
    "name": "ipython",
    "version": 3
   },
   "file_extension": ".py",
   "mimetype": "text/x-python",
   "name": "python",
   "nbconvert_exporter": "python",
   "pygments_lexer": "ipython3",
   "version": "3.7.4"
  }
 },
 "nbformat": 4,
 "nbformat_minor": 2
}
