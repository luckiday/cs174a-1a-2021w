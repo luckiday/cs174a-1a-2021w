{
 "cells": [
  {
   "cell_type": "markdown",
   "metadata": {
    "slideshow": {
     "slide_type": "slide"
    }
   },
   "source": [
    "# CS-174A Discussion 1B, Week 1\n",
    "\n",
    "@ Yunqi Guo\n",
    "\n",
    "@ DODD 161 / Friday / 12:00pm-1:50pm\n",
    "\n",
    "@ https://github.com/luckiday/cs174a-1b-2019f   (Short link: https://bit.ly/32Zt3sg)"
   ]
  },
  {
   "cell_type": "markdown",
   "metadata": {
    "slideshow": {
     "slide_type": "slide"
    }
   },
   "source": [
    "# Outline\n",
    "\n",
    "- Making Shapes in Code\n",
    "- Transformations\n",
    "- Programming with tiny-graphics.js"
   ]
  },
  {
   "cell_type": "markdown",
   "metadata": {
    "slideshow": {
     "slide_type": "slide"
    }
   },
   "source": [
    "# Making Shapes in Code\n",
    "\n",
    "- We're mostly trying to draw functions that are not linear or even polynomial.\n",
    "\n",
    "**Discretization**\n",
    "- We don't know how to tell a computer to draw most shapes \n",
    "- Instead, we linearize those shapes: Break them up\n",
    "- Use a finite number of line segments between N discrete points"
   ]
  },
  {
   "cell_type": "markdown",
   "metadata": {
    "slideshow": {
     "slide_type": "subslide"
    }
   },
   "source": [
    "## Discretization\n",
    "<img src=\"https://upload.wikimedia.org/wikipedia/commons/a/a9/Finite_element_solution.svg\" alt=\"drawing\" width=\"400\"/>"
   ]
  },
  {
   "cell_type": "markdown",
   "metadata": {
    "slideshow": {
     "slide_type": "subslide"
    }
   },
   "source": [
    "## Demo 1: Draw a Cube"
   ]
  },
  {
   "cell_type": "markdown",
   "metadata": {
    "slideshow": {
     "slide_type": "slide"
    }
   },
   "source": [
    "# Transformations\n",
    "\n",
    "- Translation\n",
    "- Scale\n",
    "- Rotation"
   ]
  },
  {
   "cell_type": "markdown",
   "metadata": {
    "slideshow": {
     "slide_type": "subslide"
    }
   },
   "source": [
    "## Translation\n",
    "$$\n",
    "\\left(\n",
    "\\begin{array}{c}\n",
    " x' \\\\\n",
    " y' \\\\\n",
    " z' \\\\\n",
    " 1 \\\\\n",
    "\\end{array}\n",
    "\\right)=\\left(\n",
    "\\begin{array}{cccc}\n",
    " 1 & 0 & 0 & t_x \\\\\n",
    " 0 & 1 & 0 & t_y \\\\\n",
    " 0 & 0 & 1 & t_z \\\\\n",
    " 0 & 0 & 0 & 1 \\\\\n",
    "\\end{array}\n",
    "\\right) \\left(\n",
    "\\begin{array}{c}\n",
    " x \\\\\n",
    " y \\\\\n",
    " z \\\\\n",
    " 1 \\\\\n",
    "\\end{array}\n",
    "\\right)\n",
    "$$"
   ]
  },
  {
   "cell_type": "markdown",
   "metadata": {
    "slideshow": {
     "slide_type": "subslide"
    }
   },
   "source": [
    "## Scale\n",
    "$$\n",
    "\\left(\n",
    "\\begin{array}{c}\n",
    " x' \\\\\n",
    " y' \\\\\n",
    " z' \\\\\n",
    " 1 \\\\\n",
    "\\end{array}\n",
    "\\right)=\\left(\n",
    "\\begin{array}{cccc}\n",
    " s_x & 0 & 0 & 0 \\\\\n",
    " 0 & s_y & 0 & 0 \\\\\n",
    " 0 & 0 & s_z & 0 \\\\\n",
    " 0 & 0 & 0 & 1 \\\\\n",
    "\\end{array}\n",
    "\\right) \\left(\n",
    "\\begin{array}{c}\n",
    " x \\\\\n",
    " y \\\\\n",
    " z \\\\\n",
    " 1 \\\\\n",
    "\\end{array}\n",
    "\\right)\n",
    "$$"
   ]
  },
  {
   "cell_type": "markdown",
   "metadata": {
    "slideshow": {
     "slide_type": "subslide"
    }
   },
   "source": [
    "## Rotation\n",
    "**Rotate about Z**:\n",
    "$$\n",
    "\\left(\n",
    "\\begin{array}{c}\n",
    " x' \\\\\n",
    " y' \\\\\n",
    " z' \\\\\n",
    " 1 \\\\\n",
    "\\end{array}\n",
    "\\right)=\\left(\n",
    "\\begin{array}{cccc}\n",
    " \\cos (\\theta ) & -\\sin (\\theta ) & 0 & 0 \\\\\n",
    " \\sin (\\theta ) & \\cos (\\theta ) & 0 & 0 \\\\\n",
    " 0 & 0 & 1 & 0 \\\\\n",
    " 0 & 0 & 0 & 1 \\\\\n",
    "\\end{array}\n",
    "\\right)\\left(\n",
    "\\begin{array}{c}\n",
    " x \\\\\n",
    " y \\\\\n",
    " z \\\\\n",
    " 1 \\\\\n",
    "\\end{array}\n",
    "\\right)\n",
    "$$"
   ]
  },
  {
   "cell_type": "markdown",
   "metadata": {
    "slideshow": {
     "slide_type": "subslide"
    }
   },
   "source": [
    "E.g. when $\\theta=\\pi/4$, \n",
    "$$\n",
    "R = \\left(\n",
    "\\begin{array}{cccc}\n",
    " \\frac{1}{\\sqrt{2}} & -\\frac{1}{\\sqrt{2}} & 0 & 0 \\\\\n",
    " \\frac{1}{\\sqrt{2}} & \\frac{1}{\\sqrt{2}} & 0 & 0 \\\\\n",
    " 0 & 0 & 1 & 0 \\\\\n",
    " 0 & 0 & 0 & 1 \\\\\n",
    "\\end{array}\n",
    "\\right)\n",
    "$$"
   ]
  },
  {
   "cell_type": "markdown",
   "metadata": {
    "slideshow": {
     "slide_type": "subslide"
    }
   },
   "source": [
    "**Q: Rotate about Y**"
   ]
  },
  {
   "cell_type": "markdown",
   "metadata": {
    "slideshow": {
     "slide_type": "subslide"
    }
   },
   "source": [
    "#  Order of Transformations\n",
    "\n",
    "An example of transformation order as we repeatedly modify a matrix:\n",
    "```js\n",
    "[...]rotation(Math.PI/2, new Vec( 0,1,0 ) ); // Rotate\n",
    "this.shapes.cube.draw(...);                 \n",
    "[...]translation([ 10,0,0 ]) );              // Translate\n",
    "this.shapes.cube.draw(...);\n",
    "[...]scale([ 1,1,3 ]) );                     // Scale\n",
    "this.cube.draw(...);\n",
    "```\n"
   ]
  },
  {
   "cell_type": "markdown",
   "metadata": {
    "slideshow": {
     "slide_type": "slide"
    }
   },
   "source": [
    "# Programming with tinyGraphics.js\n",
    "- [Demo](./demo_1)"
   ]
  }
 ],
 "metadata": {
  "celltoolbar": "Slideshow",
  "kernelspec": {
   "display_name": "Python 3",
   "language": "python",
   "name": "python3"
  },
  "language_info": {
   "codemirror_mode": {
    "name": "ipython",
    "version": 3
   },
   "file_extension": ".py",
   "mimetype": "text/x-python",
   "name": "python",
   "nbconvert_exporter": "python",
   "pygments_lexer": "ipython3",
   "version": "3.7.3"
  }
 },
 "nbformat": 4,
 "nbformat_minor": 2
}
