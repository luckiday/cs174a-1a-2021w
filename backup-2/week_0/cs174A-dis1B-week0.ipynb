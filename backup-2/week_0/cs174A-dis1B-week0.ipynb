{
 "cells": [
  {
   "cell_type": "markdown",
   "metadata": {
    "slideshow": {
     "slide_type": "slide"
    }
   },
   "source": [
    "# CS-174A Discussion 1B, Week 0\n",
    "\n",
    "@ Yunqi Guo\n",
    "\n",
    "@ DODD 161 / Friday / 12:00pm-1:50pm\n",
    "\n",
    "@ https://github.com/luckiday/cs174a-1b-2019f"
   ]
  },
  {
   "cell_type": "markdown",
   "metadata": {
    "slideshow": {
     "slide_type": "slide"
    }
   },
   "source": [
    "# Outline\n",
    "\n",
    "- About this course\n",
    "- JavaScript and WebGL Basic\n",
    "- Assignment 1"
   ]
  },
  {
   "cell_type": "markdown",
   "metadata": {
    "slideshow": {
     "slide_type": "slide"
    }
   },
   "source": [
    "# CS-174A Introduction\n",
    "\n",
    "\n",
    "## About Me: \n",
    "\n",
    "- Yunqi Guo, Ph.D student in Computer Science\n",
    "\n",
    "- Office hours: Eng-VI 396, Tuesday 9:00 - 11:00 AM\n",
    "\n",
    "- Email: guoyunqi@gmail.com"
   ]
  },
  {
   "cell_type": "markdown",
   "metadata": {
    "slideshow": {
     "slide_type": "subslide"
    }
   },
   "source": [
    "## Grading Policies (1000pts)\n",
    "\n",
    "- 4 assignments (0 + 50 + 50 + 50): 150 pts\n",
    "- Team project: 600 pts\n",
    "- Midterm: 100 pts\n",
    "- Final: 150 pts\n"
   ]
  },
  {
   "cell_type": "markdown",
   "metadata": {
    "slideshow": {
     "slide_type": "subslide"
    }
   },
   "source": [
    "**More Points**\n",
    "- Class participation (50 pts)\n",
    "- Interaction with classmates on Piazza (50 pts)\n",
    "- Super impressive final project (50 pts)\n",
    "- Bonus questions on midterm and final exams (50 pts)"
   ]
  },
  {
   "cell_type": "markdown",
   "metadata": {
    "slideshow": {
     "slide_type": "slide"
    }
   },
   "source": [
    "# JavaScript Basics\n",
    "\n",
    "JavaScript can change HTML content"
   ]
  },
  {
   "cell_type": "code",
   "execution_count": 1,
   "metadata": {
    "slideshow": {
     "slide_type": "fragment"
    }
   },
   "outputs": [
    {
     "data": {
      "text/html": [
       "<p id=\"demo\">JavaScript can change HTML content.</p>\n",
       "<button type=\"button\" onclick='document.getElementById(\"demo\").innerHTML = \"Hello JavaScript!\"'>Click Me!</button>\n"
      ],
      "text/plain": [
       "<IPython.core.display.HTML object>"
      ]
     },
     "metadata": {},
     "output_type": "display_data"
    }
   ],
   "source": [
    "%%html\n",
    "<p id=\"demo\">JavaScript can change HTML content.</p>\n",
    "<button type=\"button\" onclick='document.getElementById(\"demo\").innerHTML = \"Hello JavaScript!\"'>Click Me!</button>"
   ]
  },
  {
   "cell_type": "markdown",
   "metadata": {
    "slideshow": {
     "slide_type": "subslide"
    }
   },
   "source": [
    "## Variables and Data types\n",
    "\n",
    "JavaScript variables can hold many **data types**: numbers, strings, objects and more:\n",
    "```js\n",
    "var length = 16;                            // Number\n",
    "var lastName = \"Johnson\";                   // String\n",
    "var x = {firstName:\"John\", lastName:\"Doe\"}; // Object\n",
    "```\n"
   ]
  },
  {
   "cell_type": "code",
   "execution_count": 1,
   "metadata": {
    "slideshow": {
     "slide_type": "fragment"
    }
   },
   "outputs": [
    {
     "data": {
      "application/javascript": [
       "var num = 16;                                  // Number\n",
       "element.text(\"The number is \" + num)\n"
      ],
      "text/plain": [
       "<IPython.core.display.Javascript object>"
      ]
     },
     "metadata": {},
     "output_type": "display_data"
    }
   ],
   "source": [
    "%%js\n",
    "var num = 16;                                  // Number\n",
    "element.text(\"The number is \" + num)"
   ]
  },
  {
   "cell_type": "markdown",
   "metadata": {
    "slideshow": {
     "slide_type": "subslide"
    }
   },
   "source": [
    "## Objects\n",
    "\n",
    "You define (and create) a JavaScript object with an object literal:\n",
    "\n",
    "```js\n",
    "var person = {firstName:\"John\", lastName:\"Doe\", age:50, eyeColor:\"blue\"};\n",
    "```"
   ]
  },
  {
   "cell_type": "code",
   "execution_count": 3,
   "metadata": {
    "scrolled": true,
    "slideshow": {
     "slide_type": "fragment"
    }
   },
   "outputs": [
    {
     "data": {
      "application/javascript": [
       "var person = {firstName:\"John\", lastName:\"Doe\", age:50, eyeColor:\"blue\"};\n",
       "element.text(person.firstName + \"'s age is \" + person[\"age\"]);  // two ways for accessing the property of an object\n",
       "\n",
       "var name = new String(\"John\");\n",
       "var name_2 = \"John\";\n",
       "element.text(name === \"John\"); \n"
      ],
      "text/plain": [
       "<IPython.core.display.Javascript object>"
      ]
     },
     "metadata": {},
     "output_type": "display_data"
    }
   ],
   "source": [
    "%%js\n",
    "var person = {firstName:\"John\", lastName:\"Doe\", age:50, eyeColor:\"blue\"};\n",
    "element.text(person.firstName + \"'s age is \" + person[\"age\"]);  // two ways for accessing the property of an object\n",
    "\n",
    "var name = new String(\"John\");\n",
    "var name_2 = \"John\";\n",
    "element.text(name === \"John\"); "
   ]
  },
  {
   "cell_type": "markdown",
   "metadata": {
    "slideshow": {
     "slide_type": "subslide"
    }
   },
   "source": [
    "## Functions\n",
    "\n",
    "A JavaScript function is a block of code designed to perform a particular task.\n",
    "\n",
    "A JavaScript function is executed when \"something\" invokes it (calls it)."
   ]
  },
  {
   "cell_type": "code",
   "execution_count": 4,
   "metadata": {
    "slideshow": {
     "slide_type": "fragment"
    }
   },
   "outputs": [
    {
     "data": {
      "application/javascript": [
       "function myFunction(p1, p2) {\n",
       "  return p1 * p2;   // The function returns the product of p1 and p2\n",
       "}\n",
       "\n",
       "var a = 3;\n",
       "var b = 4;\n",
       "element.text(\"The product of a and b is \" + myFunction(a,b))\n"
      ],
      "text/plain": [
       "<IPython.core.display.Javascript object>"
      ]
     },
     "metadata": {},
     "output_type": "display_data"
    }
   ],
   "source": [
    "%%js\n",
    "function myFunction(p1, p2) {\n",
    "  return p1 * p2;   // The function returns the product of p1 and p2\n",
    "}\n",
    "\n",
    "var a = 3;\n",
    "var b = 4;\n",
    "element.text(\"The product of a and b is \" + myFunction(a,b))"
   ]
  },
  {
   "cell_type": "markdown",
   "metadata": {
    "slideshow": {
     "slide_type": "subslide"
    }
   },
   "source": [
    "## Object Methods\n"
   ]
  },
  {
   "cell_type": "code",
   "execution_count": 2,
   "metadata": {
    "slideshow": {
     "slide_type": "-"
    }
   },
   "outputs": [
    {
     "data": {
      "application/javascript": [
       "var person = {\n",
       "  firstName: \"John\",\n",
       "  lastName : \"Doe\",\n",
       "  id       : 5566,\n",
       "  fullName : function() {\n",
       "    return this.firstName + \" \" + this.lastName;\n",
       "  }\n",
       "};\n",
       "element.text(person.fullName())\n"
      ],
      "text/plain": [
       "<IPython.core.display.Javascript object>"
      ]
     },
     "metadata": {},
     "output_type": "display_data"
    }
   ],
   "source": [
    "%%js\n",
    "var person = {\n",
    "  firstName: \"John\",\n",
    "  lastName : \"Doe\",\n",
    "  id       : 5566,\n",
    "  fullName : function() {\n",
    "    return this.firstName + \" \" + this.lastName;\n",
    "  }\n",
    "};\n",
    "element.text(person.fullName())"
   ]
  },
  {
   "cell_type": "markdown",
   "metadata": {
    "slideshow": {
     "slide_type": "subslide"
    }
   },
   "source": [
    "### Object Constructors"
   ]
  },
  {
   "cell_type": "code",
   "execution_count": 6,
   "metadata": {},
   "outputs": [
    {
     "data": {
      "application/javascript": [
       "function Person(first, last, age, eye) {\n",
       "  this.firstName = first;\n",
       "  this.lastName = last;\n",
       "  this.age = age;\n",
       "  this.eyeColor = eye;\n",
       "}\n",
       "\n",
       "var myFather = new Person(\"John\", \"Doe\", 50, \"blue\");\n",
       "\n",
       "element.text(\"My father is \" + myFather.firstName + \" \" + myFather.lastName + \".\")\n",
       "//element.text(myFather)\n"
      ],
      "text/plain": [
       "<IPython.core.display.Javascript object>"
      ]
     },
     "metadata": {},
     "output_type": "display_data"
    }
   ],
   "source": [
    "%%js\n",
    "function Person(first, last, age, eye) {\n",
    "  this.firstName = first;\n",
    "  this.lastName = last;\n",
    "  this.age = age;\n",
    "  this.eyeColor = eye;\n",
    "}\n",
    "\n",
    "var myFather = new Person(\"John\", \"Doe\", 50, \"blue\");\n",
    "\n",
    "element.text(\"My father is \" + myFather.firstName + \" \" + myFather.lastName + \".\")\n",
    "//element.text(myFather)"
   ]
  },
  {
   "cell_type": "markdown",
   "metadata": {
    "slideshow": {
     "slide_type": "subslide"
    }
   },
   "source": [
    "## JavaScript Classes\n",
    "\n",
    "ES6, also known as ECMAScript2015, introduced classes.\n",
    "\n",
    "A class is a type of function, but instead of using the keyword `function` to initiate it, we use the keyword `class`, and the properties is assigned inside a `constructor()` method."
   ]
  },
  {
   "cell_type": "markdown",
   "metadata": {
    "slideshow": {
     "slide_type": "subslide"
    }
   },
   "source": [
    "### Class Definition\n",
    "Use the keyword `class` to create a class, and always add a `constructor` method.\n",
    "\n",
    "The `constructor` method is called each time the class object is initialized.\n",
    "\n",
    "```js\n",
    "class Car {\n",
    "  constructor(brand) {\n",
    "    this.carname = brand;\n",
    "  }\n",
    "}\n",
    "mycar = new Car(\"Ford\");\n",
    "```"
   ]
  },
  {
   "cell_type": "markdown",
   "metadata": {
    "slideshow": {
     "slide_type": "subslide"
    }
   },
   "source": [
    "## A Quick Way to Learn JS\n",
    "\n",
    "- https://www.w3schools.com/js/"
   ]
  },
  {
   "cell_type": "markdown",
   "metadata": {
    "slideshow": {
     "slide_type": "slide"
    }
   },
   "source": [
    "# WebGL Basics\n",
    "\n",
    "WebGL (Web Graphics Library) is a JavaScript API for rendering interactive 3D and 2D graphics within any compatible web browser without the use of plug-ins. WebGL does so by introducing an API that closely conforms to OpenGL ES 2.0 that can be used in HTML5 `<canvas>` elements.\n",
    "\n",
    "- [Demo 0: Clearing with colors](demo_0/demo.html). How to clear the rendering context with a solid color.\n",
    "- [Demo 1: Simple color animation](demo_1/index.html). A very basic color animation."
   ]
  },
  {
   "cell_type": "markdown",
   "metadata": {
    "slideshow": {
     "slide_type": "subslide"
    }
   },
   "source": [
    "## ... and some other projects\n",
    "- [WebGL Wather](http://madebyevan.com/webgl-water/)\n",
    "- [Make me pulse wish 2017](http://2017.makemepulse.com)"
   ]
  },
  {
   "cell_type": "markdown",
   "metadata": {
    "slideshow": {
     "slide_type": "slide"
    }
   },
   "source": [
    "# Assignment 1: Environment Setup and Creating a Simple Rectangle\n",
    "\n",
    "- [**Demo**](https://classroom.github.com/classrooms/55804222-intro-graphics-master-f19-classroom-1) "
   ]
  }
 ],
 "metadata": {
  "celltoolbar": "Slideshow",
  "kernelspec": {
   "display_name": "Python 3",
   "language": "python",
   "name": "python3"
  },
  "language_info": {
   "codemirror_mode": {
    "name": "ipython",
    "version": 3
   },
   "file_extension": ".py",
   "mimetype": "text/x-python",
   "name": "python",
   "nbconvert_exporter": "python",
   "pygments_lexer": "ipython3",
   "version": "3.7.4"
  }
 },
 "nbformat": 4,
 "nbformat_minor": 2
}
