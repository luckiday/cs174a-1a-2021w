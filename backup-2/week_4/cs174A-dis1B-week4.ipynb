{
 "cells": [
  {
   "cell_type": "markdown",
   "metadata": {
    "slideshow": {
     "slide_type": "slide"
    }
   },
   "source": [
    "# CS-174A Discussion 1B, Week 4\n",
    "\n",
    "@ Yunqi Guo\n",
    "\n",
    "@ DODD 161 / Friday / 12:00pm-1:50pm\n",
    "\n",
    "@ https://github.com/luckiday/cs174a-1b-2019f   (Short link: https://bit.ly/32Zt3sg)"
   ]
  },
  {
   "cell_type": "markdown",
   "metadata": {
    "slideshow": {
     "slide_type": "slide"
    }
   },
   "source": [
    "# Outline\n",
    "\n",
    "* Midterm review\n",
    "* Project proposal"
   ]
  },
  {
   "cell_type": "markdown",
   "metadata": {
    "slideshow": {
     "slide_type": "slide"
    }
   },
   "source": [
    "# Midterm Review\n",
    "\n",
    "1. Graphics Systems and Models\n",
    "2. Points and Vectors\n",
    "3. Transformations\n",
    "4. Viewing & HSR"
   ]
  },
  {
   "cell_type": "markdown",
   "metadata": {
    "slideshow": {
     "slide_type": "subslide"
    }
   },
   "source": [
    "## Graphics Systems and Models\n",
    "\n",
    "Q: Difference between single and double buffering?"
   ]
  },
  {
   "cell_type": "markdown",
   "metadata": {
    "slideshow": {
     "slide_type": "fragment"
    }
   },
   "source": [
    "A: When drawing to a single buffered context (GLUT_SINGLE), there is only one framebuffer that is used to draw and display the content. This means, that you draw more or less directly to the screen. In addition, things draw last in a frame are shown for a shorter time period then objects at the beginning.\n",
    "\n",
    "In a double buffered scenario (GLUT_DOUBLE), there exist two framebuffer. One is used for drawing, the other one for display. At the end of each frame, these buffers are swapped. Doing so, the view is only changed at once when a frame is finished and all objects are visible for the same time."
   ]
  },
  {
   "cell_type": "markdown",
   "metadata": {
    "slideshow": {
     "slide_type": "subslide"
    }
   },
   "source": [
    "## Points and Vectors\n",
    "\n",
    "Q: Parametric equations of line and triangle (barycentric coordinates)"
   ]
  },
  {
   "cell_type": "markdown",
   "metadata": {
    "slideshow": {
     "slide_type": "fragment"
    }
   },
   "source": [
    "A:\n",
    "\n",
    "- *Line*: $P = \\alpha_1 P_1 + \\alpha_2 P_2$, and  $\\alpha_1 + \\alpha_2 = 1$.\n",
    "- *Triangle*: \n",
    "  <img src=\"./figure/triangle.png\" alt=\"drawing\" width=\"300\"/>"
   ]
  },
  {
   "cell_type": "markdown",
   "metadata": {
    "slideshow": {
     "slide_type": "subslide"
    }
   },
   "source": [
    "## Points and Vectors\n",
    "\n",
    "Q: Parametric equations of line and triangle (barycentric coordinates)"
   ]
  },
  {
   "cell_type": "markdown",
   "metadata": {
    "slideshow": {
     "slide_type": "fragment"
    }
   },
   "source": [
    "A: *Barycentric coordinates*\n",
    "\n",
    "Triangle is convex so any point inside can be represented as an affine sum\n",
    "\n",
    "$$\n",
    "P(a1, a2, a3)=a1P+a2Q+a3R\n",
    "$$\n",
    "where \n",
    "$$\n",
    "a1 +a2 +a3 = 1,\n",
    "a_i\\geq0\n",
    "$$\n",
    "The representation is called the barycentric coordinate representation of P."
   ]
  },
  {
   "cell_type": "markdown",
   "metadata": {
    "slideshow": {
     "slide_type": "subslide"
    }
   },
   "source": [
    "Q: What is the diff between affine combinations and convex combination of points?\n",
    "\n",
    "A:   \n",
    "  * An affine combination is a linear combination of a vector, where the sum of the coffecients is 1. \n",
    "  * A convex combination is a linear combination of a vector where the sum of the coeffecients is 1 and every coeffecient is non-negative."
   ]
  },
  {
   "cell_type": "markdown",
   "metadata": {
    "slideshow": {
     "slide_type": "subslide"
    }
   },
   "source": [
    "## Points and Vectors\n",
    "\n",
    "**Normals**\n",
    "\n",
    "In three dimensional spaces, every plane has a vector $n$  perpendicular or orthogonal to it called the *normal vector*\n",
    "From the two-point vector form $P(\\alpha, \\beta)=P+\\alpha u+\\beta v$, we know  we can use the cross product to find $n = u  \\times v$ and the equivalent form $(P(\\alpha, \\beta)-P) \\cdot n=0$.\n",
    "<img src=\"./figure/normal.png\" alt=\"drawing\" width=\"200\"/>"
   ]
  },
  {
   "cell_type": "markdown",
   "metadata": {
    "slideshow": {
     "slide_type": "subslide"
    }
   },
   "source": [
    "## Polygonal Model / Data Structure\n",
    "\n",
    "Indexed face set\n",
    "<img src=\"./figure/polygon.png\" alt=\"drawing\" width=\"200\"/>"
   ]
  },
  {
   "cell_type": "markdown",
   "metadata": {
    "slideshow": {
     "slide_type": "subslide"
    }
   },
   "source": [
    "## Transformations - The Pumpkin Problem\n",
    "\n",
    "- [The Pumpkin Problem](./The_Pumpkin_Problem.pdf)"
   ]
  },
  {
   "cell_type": "markdown",
   "metadata": {
    "slideshow": {
     "slide_type": "slide"
    }
   },
   "source": [
    "## Viewing & HSR\n",
    "<img src=\"./figure/look.png\" alt=\"drawing\" width=\"400\"/>"
   ]
  },
  {
   "cell_type": "markdown",
   "metadata": {
    "slideshow": {
     "slide_type": "subslide"
    }
   },
   "source": [
    "### Look-at\n",
    "- The at and eye points give us\n",
    "  - the view-plane-normal or vpn \n",
    "- The up vector is usually $(0, 1, 0)$\n",
    "  - Or, $(0, 1, 0, 0)$ in homogeneous coordinates! \n",
    "- We then calculate the following\n",
    "$$\n",
    "n=\\frac{eye-at}{|eye-at|},\n",
    "u=\\frac{up\\times n}{|up\\times n|},\n",
    "v=\\frac{n\\times u}{|n\\times u|}\n",
    "$$"
   ]
  },
  {
   "cell_type": "markdown",
   "metadata": {
    "slideshow": {
     "slide_type": "subslide"
    }
   },
   "source": [
    "- Camera projection matrix\n",
    "\n",
    "$$\n",
    "V=RT=\\left(\n",
    "\\begin{array}{cccc}\n",
    " u_x & u_y & u_z & -eye_x u_x-eye_y u_y-eye_z u_z \\\\\n",
    " v_x & v_y & v_z & -eye_x v_x-eye_y v_y-eye_z v_z \\\\\n",
    " n_x & n_y & n_z & -eye_x n_x-eye_y n_y-eye_z n_z \\\\\n",
    " 0 & 0 & 0 & 1 \\\\\n",
    "\\end{array}\n",
    "\\right)\n",
    "$$"
   ]
  },
  {
   "cell_type": "markdown",
   "metadata": {
    "slideshow": {
     "slide_type": "subslide"
    }
   },
   "source": [
    "### Projection\n",
    "\n",
    "- Orthographic projection matrix:\n",
    "$$\n",
    "N=\\text{ST}=\\left(\n",
    "\\begin{array}{cccc}\n",
    " \\frac{2}{r-l} & 0 & 0 & -\\frac{l+r}{r-l} \\\\\n",
    " 0 & \\frac{2}{t-b} & 0 & -\\frac{b+t}{t-b} \\\\\n",
    " 0 & 0 & -\\frac{2}{f-n} & -\\frac{f+n}{f-n} \\\\\n",
    " 0 & 0 & 0 & 1 \\\\\n",
    "\\end{array}\n",
    "\\right)\n",
    "$$\n"
   ]
  },
  {
   "cell_type": "markdown",
   "metadata": {
    "slideshow": {
     "slide_type": "subslide"
    }
   },
   "source": [
    "- Perspective projection matrix:\n",
    "    \n",
    "$$\n",
    "P=NSH=\\left(\n",
    "\\begin{array}{cccc}\n",
    " \\frac{n}{r} & 0 & 0 & 0 \\\\\n",
    " 0 & \\frac{n}{t} & 0 & 0 \\\\\n",
    " 0 & 0 & -\\frac{f+n}{f-n} & -\\frac{2 f n}{f-n} \\\\\n",
    " 0 & 0 & -1 & 0 \\\\\n",
    "\\end{array}\n",
    "\\right)\n",
    "$$"
   ]
  },
  {
   "cell_type": "markdown",
   "metadata": {
    "slideshow": {
     "slide_type": "subslide"
    }
   },
   "source": [
    "- Derivation\n",
    "$$\n",
    "N=\\left(\n",
    "\\begin{array}{cccc}\n",
    " 1 & 0 & 0 & 0 \\\\\n",
    " 0 & 1 & 0 & 0 \\\\\n",
    " 0 & 0 & a & b \\\\\n",
    " 0 & 0 & -1 & 0 \\\\\n",
    "\\end{array}\n",
    "\\right)\n",
    "$$\n",
    "  After perspective division, the point $(x, y, z, 1)$ goes to\n",
    "$$\n",
    "x’’ = -x/z,~~\n",
    "y’’ = -y/z,~~\n",
    "z’’ = -(a+b/z)\n",
    "$$\n",
    "\n",
    "  When $z = f, z'' = -1$; when $z = n, z'' = 1$."
   ]
  },
  {
   "cell_type": "markdown",
   "metadata": {
    "slideshow": {
     "slide_type": "slide"
    }
   },
   "source": [
    "# Project Proposal\n",
    "\n",
    "-\tApproximately 1 page\n",
    "-\tWhat is the theme (or story) of your animation?\n",
    "-\tWhat topics learnt in the course is used and how?\n",
    "-\tWhat interactivity will you use?\n",
    "-\tAre there any advanced features that you’ll be implementing?\n",
    "-\tList of team members"
   ]
  },
  {
   "cell_type": "markdown",
   "metadata": {
    "slideshow": {
     "slide_type": "subslide"
    }
   },
   "source": [
    "## Project Demos\n",
    "\n",
    "https://1stwebdesigner.com/webgl-examples-and-demos/"
   ]
  }
 ],
 "metadata": {
  "kernelspec": {
   "display_name": "Python 3",
   "language": "python",
   "name": "python3"
  },
  "language_info": {
   "codemirror_mode": {
    "name": "ipython",
    "version": 3
   },
   "file_extension": ".py",
   "mimetype": "text/x-python",
   "name": "python",
   "nbconvert_exporter": "python",
   "pygments_lexer": "ipython3",
   "version": "3.7.4"
  }
 },
 "nbformat": 4,
 "nbformat_minor": 2
}
